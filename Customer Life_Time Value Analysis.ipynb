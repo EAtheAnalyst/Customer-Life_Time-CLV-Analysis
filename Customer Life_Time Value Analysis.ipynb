{
 "cells": [
  {
   "cell_type": "code",
   "execution_count": 1,
   "id": "a323a3ed",
   "metadata": {},
   "outputs": [],
   "source": [
    "import pandas as pd\n",
    "%matplotlib inline\n",
    "import matplotlib.pyplot as plt\n",
    "import seaborn as sns\n",
    "import os\n",
    "\n",
    "# Setting seaborn color palette\n",
    "palette = sns.set_palette('Set2')"
   ]
  },
  {
   "cell_type": "markdown",
   "id": "4b497d49",
   "metadata": {},
   "source": [
    "### Exploratory Data Analysis and Data Visualization\n",
    "\n",
    "\n",
    "#### Overview of the Dataset\n",
    "In this step, we will start by summarizing the dataset, including its size, column names, and any missing values. We will calculate basic statistics to gain an understanding of the dataset's overall characteristics"
   ]
  },
  {
   "cell_type": "code",
   "execution_count": 7,
   "id": "3d08e087",
   "metadata": {},
   "outputs": [],
   "source": [
    "file_path = os.getcwd() +\"/Downloads\"+ \"/customer_acquisition_data.csv\"\n",
    "data = pd.read_csv(file_path)"
   ]
  },
  {
   "cell_type": "code",
   "execution_count": 8,
   "id": "683dc5e2",
   "metadata": {},
   "outputs": [
    {
     "data": {
      "text/html": [
       "<div>\n",
       "<style scoped>\n",
       "    .dataframe tbody tr th:only-of-type {\n",
       "        vertical-align: middle;\n",
       "    }\n",
       "\n",
       "    .dataframe tbody tr th {\n",
       "        vertical-align: top;\n",
       "    }\n",
       "\n",
       "    .dataframe thead th {\n",
       "        text-align: right;\n",
       "    }\n",
       "</style>\n",
       "<table border=\"1\" class=\"dataframe\">\n",
       "  <thead>\n",
       "    <tr style=\"text-align: right;\">\n",
       "      <th></th>\n",
       "      <th>customer_id</th>\n",
       "      <th>channel</th>\n",
       "      <th>cost</th>\n",
       "      <th>conversion_rate</th>\n",
       "      <th>revenue</th>\n",
       "    </tr>\n",
       "  </thead>\n",
       "  <tbody>\n",
       "    <tr>\n",
       "      <th>0</th>\n",
       "      <td>1</td>\n",
       "      <td>referral</td>\n",
       "      <td>8.320327</td>\n",
       "      <td>0.123145</td>\n",
       "      <td>4199</td>\n",
       "    </tr>\n",
       "    <tr>\n",
       "      <th>1</th>\n",
       "      <td>2</td>\n",
       "      <td>paid advertising</td>\n",
       "      <td>30.450327</td>\n",
       "      <td>0.016341</td>\n",
       "      <td>3410</td>\n",
       "    </tr>\n",
       "    <tr>\n",
       "      <th>2</th>\n",
       "      <td>3</td>\n",
       "      <td>email marketing</td>\n",
       "      <td>5.246263</td>\n",
       "      <td>0.043822</td>\n",
       "      <td>3164</td>\n",
       "    </tr>\n",
       "    <tr>\n",
       "      <th>3</th>\n",
       "      <td>4</td>\n",
       "      <td>social media</td>\n",
       "      <td>9.546326</td>\n",
       "      <td>0.167592</td>\n",
       "      <td>1520</td>\n",
       "    </tr>\n",
       "    <tr>\n",
       "      <th>4</th>\n",
       "      <td>5</td>\n",
       "      <td>referral</td>\n",
       "      <td>8.320327</td>\n",
       "      <td>0.123145</td>\n",
       "      <td>2419</td>\n",
       "    </tr>\n",
       "  </tbody>\n",
       "</table>\n",
       "</div>"
      ],
      "text/plain": [
       "   customer_id           channel       cost  conversion_rate  revenue\n",
       "0            1          referral   8.320327         0.123145     4199\n",
       "1            2  paid advertising  30.450327         0.016341     3410\n",
       "2            3   email marketing   5.246263         0.043822     3164\n",
       "3            4      social media   9.546326         0.167592     1520\n",
       "4            5          referral   8.320327         0.123145     2419"
      ]
     },
     "execution_count": 8,
     "metadata": {},
     "output_type": "execute_result"
    }
   ],
   "source": [
    "data.head()"
   ]
  },
  {
   "cell_type": "code",
   "execution_count": 9,
   "id": "de143f9e",
   "metadata": {},
   "outputs": [
    {
     "name": "stdout",
     "output_type": "stream",
     "text": [
      "<class 'pandas.core.frame.DataFrame'>\n",
      "RangeIndex: 800 entries, 0 to 799\n",
      "Data columns (total 5 columns):\n",
      " #   Column           Non-Null Count  Dtype  \n",
      "---  ------           --------------  -----  \n",
      " 0   customer_id      800 non-null    int64  \n",
      " 1   channel          800 non-null    object \n",
      " 2   cost             800 non-null    float64\n",
      " 3   conversion_rate  800 non-null    float64\n",
      " 4   revenue          800 non-null    int64  \n",
      "dtypes: float64(2), int64(2), object(1)\n",
      "memory usage: 31.4+ KB\n"
     ]
    }
   ],
   "source": [
    "data.info()"
   ]
  },
  {
   "cell_type": "markdown",
   "id": "9fa2f137",
   "metadata": {},
   "source": [
    "From this information, we can gather the following:\n",
    "\n",
    "- The dataset does not contain any missing values (all columns have 800 non-null values).\n",
    "- The 'customer_id' column is a unique identifier for each customer and is stored as integers.\n",
    "- The 'channel' column represents the acquisition channel through which customers were acquired, and it contains categorical data.\n",
    "- The 'cost' column represents the acquisition cost for each customer, and it is stored as floating-point numbers.\n",
    "- The 'conversion_rate' column represents the conversion rate for each customer, also stored as floating-point numbers.\n",
    "- The 'revenue' column represents the revenue generated by each customer and is stored as integers"
   ]
  },
  {
   "cell_type": "code",
   "execution_count": 10,
   "id": "26564b53",
   "metadata": {},
   "outputs": [
    {
     "data": {
      "text/html": [
       "<div>\n",
       "<style scoped>\n",
       "    .dataframe tbody tr th:only-of-type {\n",
       "        vertical-align: middle;\n",
       "    }\n",
       "\n",
       "    .dataframe tbody tr th {\n",
       "        vertical-align: top;\n",
       "    }\n",
       "\n",
       "    .dataframe thead th {\n",
       "        text-align: right;\n",
       "    }\n",
       "</style>\n",
       "<table border=\"1\" class=\"dataframe\">\n",
       "  <thead>\n",
       "    <tr style=\"text-align: right;\">\n",
       "      <th></th>\n",
       "      <th>customer_id</th>\n",
       "      <th>cost</th>\n",
       "      <th>conversion_rate</th>\n",
       "      <th>revenue</th>\n",
       "    </tr>\n",
       "  </thead>\n",
       "  <tbody>\n",
       "    <tr>\n",
       "      <th>count</th>\n",
       "      <td>800.0000</td>\n",
       "      <td>800.000000</td>\n",
       "      <td>800.000000</td>\n",
       "      <td>800.000000</td>\n",
       "    </tr>\n",
       "    <tr>\n",
       "      <th>mean</th>\n",
       "      <td>400.5000</td>\n",
       "      <td>13.148052</td>\n",
       "      <td>0.086305</td>\n",
       "      <td>2769.151250</td>\n",
       "    </tr>\n",
       "    <tr>\n",
       "      <th>std</th>\n",
       "      <td>231.0844</td>\n",
       "      <td>9.922337</td>\n",
       "      <td>0.059611</td>\n",
       "      <td>1259.543706</td>\n",
       "    </tr>\n",
       "    <tr>\n",
       "      <th>min</th>\n",
       "      <td>1.0000</td>\n",
       "      <td>5.246263</td>\n",
       "      <td>0.016341</td>\n",
       "      <td>500.000000</td>\n",
       "    </tr>\n",
       "    <tr>\n",
       "      <th>25%</th>\n",
       "      <td>200.7500</td>\n",
       "      <td>5.246263</td>\n",
       "      <td>0.043822</td>\n",
       "      <td>1694.000000</td>\n",
       "    </tr>\n",
       "    <tr>\n",
       "      <th>50%</th>\n",
       "      <td>400.5000</td>\n",
       "      <td>8.320327</td>\n",
       "      <td>0.043822</td>\n",
       "      <td>2764.000000</td>\n",
       "    </tr>\n",
       "    <tr>\n",
       "      <th>75%</th>\n",
       "      <td>600.2500</td>\n",
       "      <td>9.546326</td>\n",
       "      <td>0.123145</td>\n",
       "      <td>3824.250000</td>\n",
       "    </tr>\n",
       "    <tr>\n",
       "      <th>max</th>\n",
       "      <td>800.0000</td>\n",
       "      <td>30.450327</td>\n",
       "      <td>0.167592</td>\n",
       "      <td>4998.000000</td>\n",
       "    </tr>\n",
       "  </tbody>\n",
       "</table>\n",
       "</div>"
      ],
      "text/plain": [
       "       customer_id        cost  conversion_rate      revenue\n",
       "count     800.0000  800.000000       800.000000   800.000000\n",
       "mean      400.5000   13.148052         0.086305  2769.151250\n",
       "std       231.0844    9.922337         0.059611  1259.543706\n",
       "min         1.0000    5.246263         0.016341   500.000000\n",
       "25%       200.7500    5.246263         0.043822  1694.000000\n",
       "50%       400.5000    8.320327         0.043822  2764.000000\n",
       "75%       600.2500    9.546326         0.123145  3824.250000\n",
       "max       800.0000   30.450327         0.167592  4998.000000"
      ]
     },
     "execution_count": 10,
     "metadata": {},
     "output_type": "execute_result"
    }
   ],
   "source": [
    "data.describe()"
   ]
  },
  {
   "cell_type": "markdown",
   "id": "a79ca446",
   "metadata": {},
   "source": [
    "After reading and loading the dataset, we computed basic statistics for the numeric columns: 'cost', 'conversion_rate', and 'revenue'. These basic statistics give us a preliminary understanding of the dataset's characteristics and serve as a starting point for further exploration and analysis"
   ]
  },
  {
   "cell_type": "markdown",
   "id": "9997458c",
   "metadata": {},
   "source": [
    "### Distribution of Numeric Variables\n",
    "We will examine the distributions of numeric variables, such as 'cost', and 'revenue'. By visualizing these distributions, we can determine their shapes, ranges, and identify any outliers."
   ]
  },
  {
   "cell_type": "code",
   "execution_count": 16,
   "id": "68662068",
   "metadata": {},
   "outputs": [
    {
     "data": {
      "text/plain": [
       "<Axes: title={'center': 'Distribution of Revenue'}, xlabel='revenue', ylabel='Count'>"
      ]
     },
     "execution_count": 16,
     "metadata": {},
     "output_type": "execute_result"
    },
    {
     "data": {
      "image/png": "[encoded data removed]",
      "text/plain": [
       "<Figure size 1200x400 with 2 Axes>"
      ]
     },
     "metadata": {},
     "output_type": "display_data"
    }
   ],
   "source": [
    "fig, (ax1, ax2) = plt.subplots(1,2, figsize = (12,4))\n",
    "ax1.set_title('Distribution of Cost')\n",
    "sns.histplot(data, x = 'cost',kde= True,ax=ax1)\n",
    "ax2.set_title('Distribution of Revenue')\n",
    "sns.histplot(data, x = 'revenue', kde=True, ax=ax2)"
   ]
  },
  {
   "cell_type": "markdown",
   "id": "cf6bd88f",
   "metadata": {},
   "source": [
    "We can see that the 'cost' variable contains 4 unique values and has a relatively balanced distribution around an average value of 200, with moderate variability.\n",
    "\n",
    "As for the 'revenue' variable, it has been categorized into 11 bins. From it's histogram, we can conclude that this variable has a relatively narrow range and moderate variability (most observations clustered around the mean)."
   ]
  },
  {
   "cell_type": "markdown",
   "id": "8ec3930a",
   "metadata": {},
   "source": [
    "### Distribution of Categorical Variables"
   ]
  },
  {
   "cell_type": "markdown",
   "id": "e9365e75",
   "metadata": {},
   "source": [
    "To understand the distribution of the categorical variable 'channel', we will create a visual representation, such as bar chart. This will allow us to observe the proportions of customers acquired through different channels, identify the most common and least common channels, and assess the balance of the data\n"
   ]
  },
  {
   "cell_type": "code",
   "execution_count": 17,
   "id": "32ec293e",
   "metadata": {},
   "outputs": [
    {
     "data": {
      "text/plain": [
       "<Axes: xlabel='channel', ylabel='count'>"
      ]
     },
     "execution_count": 17,
     "metadata": {},
     "output_type": "execute_result"
    },
    {
     "data": {
      "image/png": "[encoded data removed]",
      "text/plain": [
       "<Figure size 640x480 with 1 Axes>"
      ]
     },
     "metadata": {},
     "output_type": "display_data"
    }
   ],
   "source": [
    "sns.countplot(data,x='channel')"
   ]
  },
  {
   "cell_type": "markdown",
   "id": "8f783236",
   "metadata": {},
   "source": [
    "The counts for each channel appear to be relatively close to each other. This suggests that the customer acquisition efforts were distributed somewhat evenly across these channels.\n"
   ]
  },
  {
   "cell_type": "markdown",
   "id": "74eaf7aa",
   "metadata": {},
   "source": [
    "### Grouping and Aggregating Data\n",
    "Aggregating the data allows us to calculate summary statistics and gain insights into the average performance of different groups.\n",
    "\n",
    "We can aggregate the data by the acquisition channel to analyze the performance of each channel. For example, we can calculate the average 'cost', 'conversion_rate', and 'revenue' for each channel to understand which channels are most effective."
   ]
  },
  {
   "cell_type": "code",
   "execution_count": 50,
   "id": "0e54a188",
   "metadata": {},
   "outputs": [
    {
     "data": {
      "text/plain": [
       "<pandas.core.groupby.generic.DataFrameGroupBy object at 0x7f7ef2a46890>"
      ]
     },
     "execution_count": 50,
     "metadata": {},
     "output_type": "execute_result"
    }
   ],
   "source": [
    "# Grouping the data based on 'Channel'\n",
    "channel_groups = data.groupby('channel')\n",
    "channel_groups"
   ]
  },
  {
   "cell_type": "code",
   "execution_count": 75,
   "id": "eea1d216",
   "metadata": {},
   "outputs": [
    {
     "data": {
      "image/png": "[encoded data removed]",
      "text/plain": [
       "<Figure size 640x480 with 1 Axes>"
      ]
     },
     "metadata": {},
     "output_type": "display_data"
    }
   ],
   "source": [
    "# Aggregating 'cost' for each channel group\n",
    "cost_by_channel = channel_groups['cost'].mean().reset_index()\n",
    "sns.barplot(cost_by_channel, x = 'channel', y = 'cost');"
   ]
  },
  {
   "cell_type": "markdown",
   "id": "a6d7cc2e",
   "metadata": {},
   "source": [
    "From this analysis, we can observe the paid advertising has the highest average cost. On the other hand, social media, emial marketing and referrals have relatively lower average cost. "
   ]
  },
  {
   "cell_type": "code",
   "execution_count": 34,
   "id": "5926a8c6",
   "metadata": {},
   "outputs": [
    {
     "data": {
      "image/png": "[encoded data removed]",
      "text/plain": [
       "<Figure size 640x480 with 1 Axes>"
      ]
     },
     "metadata": {},
     "output_type": "display_data"
    }
   ],
   "source": [
    "#Aggregating 'conversion_rate' for each channel group\n",
    "conversion_rate_by_channel = channel_groups['conversion_rate'].mean().reset_index()\n",
    "\n",
    "sns.barplot(conversion_rate_by_channel, x='channel',y='conversion_rate');"
   ]
  },
  {
   "cell_type": "markdown",
   "id": "1e84bdea",
   "metadata": {},
   "source": [
    "Social media has the highest average conversion rate, indicating that it may be a more successful channel for acquiring customers who convert into revenue. Referral also has relatively high conversion rate. Paid advertising and email marketing have the lowest average conversion rates, implying that they may require further optimization or targeting strategies to improve conversion rates."
   ]
  },
  {
   "cell_type": "code",
   "execution_count": 49,
   "id": "be2cd3ad",
   "metadata": {},
   "outputs": [
    {
     "data": {
      "text/plain": [
       "([<matplotlib.patches.Wedge at 0x7f7ef146cca0>,\n",
       "  <matplotlib.patches.Wedge at 0x7f7f12390e80>,\n",
       "  <matplotlib.patches.Wedge at 0x7f7f3279e230>,\n",
       "  <matplotlib.patches.Wedge at 0x7f7f3279e8c0>],\n",
       " [Text(0.7646886479763857, 0.7907283172215648, 'email marketing'),\n",
       "  Text(-0.8161025666488706, 0.7375476938538457, 'paid advertising'),\n",
       "  Text(-0.7271275061543351, -0.8254002603548036, 'referral'),\n",
       "  Text(0.8003724798146067, -0.7545885591204105, 'social media')],\n",
       " [Text(0.4171028988962104, 0.4313063548481262, '25.5%'),\n",
       "  Text(-0.44514685453574754, 0.4022987421020976, '25.5%'),\n",
       "  Text(-0.39661500335690997, -0.45021832382989285, '24.9%'),\n",
       "  Text(0.4365668071716036, -0.4115937595202238, '24.1%')])"
      ]
     },
     "execution_count": 49,
     "metadata": {},
     "output_type": "execute_result"
    },
    {
     "data": {
      "image/png": "[encoded data removed]",
      "text/plain": [
       "<Figure size 800x600 with 1 Axes>"
      ]
     },
     "metadata": {},
     "output_type": "display_data"
    }
   ],
   "source": [
    "# Aggregating 'revenue' for each channel group\n",
    "\n",
    "revenue_by_channel = channel_groups['revenue'].mean().reset_index()\n",
    "\n",
    "fig, ax1 = plt.subplots(figsize = (8, 6))\n",
    "plt.pie(revenue_by_channel['revenue'], labels = revenue_by_channel['channel'],autopct='%1.1f%%')"
   ]
  },
  {
   "cell_type": "markdown",
   "id": "927f9f24",
   "metadata": {},
   "source": [
    "The aggregation result suggests that each channel plays a significant role in generating revenue, with email marketing being the highest contributor. It implies that allocating resources and focusing efforts on these channels may be beneficial for maximizing revenue generation.\n",
    "\n",
    "\n"
   ]
  },
  {
   "cell_type": "code",
   "execution_count": 62,
   "id": "3a06ff98",
   "metadata": {},
   "outputs": [
    {
     "data": {
      "text/html": [
       "<div>\n",
       "<style scoped>\n",
       "    .dataframe tbody tr th:only-of-type {\n",
       "        vertical-align: middle;\n",
       "    }\n",
       "\n",
       "    .dataframe tbody tr th {\n",
       "        vertical-align: top;\n",
       "    }\n",
       "\n",
       "    .dataframe thead th {\n",
       "        text-align: right;\n",
       "    }\n",
       "</style>\n",
       "<table border=\"1\" class=\"dataframe\">\n",
       "  <thead>\n",
       "    <tr style=\"text-align: right;\">\n",
       "      <th></th>\n",
       "      <th>channel</th>\n",
       "      <th>cost</th>\n",
       "      <th>conversion_rate</th>\n",
       "      <th>revenue</th>\n",
       "    </tr>\n",
       "  </thead>\n",
       "  <tbody>\n",
       "    <tr>\n",
       "      <th>0</th>\n",
       "      <td>email marketing</td>\n",
       "      <td>5.246263</td>\n",
       "      <td>0.043822</td>\n",
       "      <td>2825.728972</td>\n",
       "    </tr>\n",
       "    <tr>\n",
       "      <th>1</th>\n",
       "      <td>paid advertising</td>\n",
       "      <td>30.450327</td>\n",
       "      <td>0.016341</td>\n",
       "      <td>2826.783505</td>\n",
       "    </tr>\n",
       "    <tr>\n",
       "      <th>2</th>\n",
       "      <td>referral</td>\n",
       "      <td>8.320327</td>\n",
       "      <td>0.123145</td>\n",
       "      <td>2751.458937</td>\n",
       "    </tr>\n",
       "    <tr>\n",
       "      <th>3</th>\n",
       "      <td>social media</td>\n",
       "      <td>9.546326</td>\n",
       "      <td>0.167592</td>\n",
       "      <td>2663.064865</td>\n",
       "    </tr>\n",
       "  </tbody>\n",
       "</table>\n",
       "</div>"
      ],
      "text/plain": [
       "            channel       cost  conversion_rate      revenue\n",
       "0   email marketing   5.246263         0.043822  2825.728972\n",
       "1  paid advertising  30.450327         0.016341  2826.783505\n",
       "2          referral   8.320327         0.123145  2751.458937\n",
       "3      social media   9.546326         0.167592  2663.064865"
      ]
     },
     "execution_count": 62,
     "metadata": {},
     "output_type": "execute_result"
    }
   ],
   "source": [
    "\n",
    "# Calculate mean values for 'cost', 'conversion_rate', and 'revenue' columns\n",
    "cost_by_channel = channel_groups['cost'].mean().reset_index()\n",
    "conversion_rate_by_channel = channel_groups['conversion_rate'].mean().reset_index()\n",
    "revenue_by_channel = channel_groups['revenue'].mean().reset_index()\n",
    "\n",
    "# Concatenate the DataFrames vertically\n",
    "channel_analysis = pd.concat([cost_by_channel, conversion_rate_by_channel['conversion_rate'], revenue_by_channel['revenue']], axis=1)\n",
    "\n",
    "\n",
    "channel_analysis\n",
    "\n"
   ]
  },
  {
   "cell_type": "code",
   "execution_count": 63,
   "id": "2c73f5d5",
   "metadata": {},
   "outputs": [
    {
     "data": {
      "text/html": [
       "<div>\n",
       "<style scoped>\n",
       "    .dataframe tbody tr th:only-of-type {\n",
       "        vertical-align: middle;\n",
       "    }\n",
       "\n",
       "    .dataframe tbody tr th {\n",
       "        vertical-align: top;\n",
       "    }\n",
       "\n",
       "    .dataframe thead th {\n",
       "        text-align: right;\n",
       "    }\n",
       "</style>\n",
       "<table border=\"1\" class=\"dataframe\">\n",
       "  <thead>\n",
       "    <tr style=\"text-align: right;\">\n",
       "      <th></th>\n",
       "      <th>customer_id</th>\n",
       "      <th>channel</th>\n",
       "      <th>cost</th>\n",
       "      <th>conversion_rate</th>\n",
       "      <th>revenue</th>\n",
       "    </tr>\n",
       "  </thead>\n",
       "  <tbody>\n",
       "    <tr>\n",
       "      <th>0</th>\n",
       "      <td>1</td>\n",
       "      <td>referral</td>\n",
       "      <td>8.320327</td>\n",
       "      <td>0.123145</td>\n",
       "      <td>4199</td>\n",
       "    </tr>\n",
       "    <tr>\n",
       "      <th>1</th>\n",
       "      <td>2</td>\n",
       "      <td>paid advertising</td>\n",
       "      <td>30.450327</td>\n",
       "      <td>0.016341</td>\n",
       "      <td>3410</td>\n",
       "    </tr>\n",
       "    <tr>\n",
       "      <th>2</th>\n",
       "      <td>3</td>\n",
       "      <td>email marketing</td>\n",
       "      <td>5.246263</td>\n",
       "      <td>0.043822</td>\n",
       "      <td>3164</td>\n",
       "    </tr>\n",
       "    <tr>\n",
       "      <th>3</th>\n",
       "      <td>4</td>\n",
       "      <td>social media</td>\n",
       "      <td>9.546326</td>\n",
       "      <td>0.167592</td>\n",
       "      <td>1520</td>\n",
       "    </tr>\n",
       "    <tr>\n",
       "      <th>4</th>\n",
       "      <td>5</td>\n",
       "      <td>referral</td>\n",
       "      <td>8.320327</td>\n",
       "      <td>0.123145</td>\n",
       "      <td>2419</td>\n",
       "    </tr>\n",
       "    <tr>\n",
       "      <th>...</th>\n",
       "      <td>...</td>\n",
       "      <td>...</td>\n",
       "      <td>...</td>\n",
       "      <td>...</td>\n",
       "      <td>...</td>\n",
       "    </tr>\n",
       "    <tr>\n",
       "      <th>795</th>\n",
       "      <td>796</td>\n",
       "      <td>social media</td>\n",
       "      <td>9.546326</td>\n",
       "      <td>0.167592</td>\n",
       "      <td>2813</td>\n",
       "    </tr>\n",
       "    <tr>\n",
       "      <th>796</th>\n",
       "      <td>797</td>\n",
       "      <td>email marketing</td>\n",
       "      <td>5.246263</td>\n",
       "      <td>0.043822</td>\n",
       "      <td>3439</td>\n",
       "    </tr>\n",
       "    <tr>\n",
       "      <th>797</th>\n",
       "      <td>798</td>\n",
       "      <td>social media</td>\n",
       "      <td>9.546326</td>\n",
       "      <td>0.167592</td>\n",
       "      <td>2101</td>\n",
       "    </tr>\n",
       "    <tr>\n",
       "      <th>798</th>\n",
       "      <td>799</td>\n",
       "      <td>paid advertising</td>\n",
       "      <td>30.450327</td>\n",
       "      <td>0.016341</td>\n",
       "      <td>813</td>\n",
       "    </tr>\n",
       "    <tr>\n",
       "      <th>799</th>\n",
       "      <td>800</td>\n",
       "      <td>email marketing</td>\n",
       "      <td>5.246263</td>\n",
       "      <td>0.043822</td>\n",
       "      <td>4820</td>\n",
       "    </tr>\n",
       "  </tbody>\n",
       "</table>\n",
       "<p>800 rows × 5 columns</p>\n",
       "</div>"
      ],
      "text/plain": [
       "     customer_id           channel       cost  conversion_rate  revenue\n",
       "0              1          referral   8.320327         0.123145     4199\n",
       "1              2  paid advertising  30.450327         0.016341     3410\n",
       "2              3   email marketing   5.246263         0.043822     3164\n",
       "3              4      social media   9.546326         0.167592     1520\n",
       "4              5          referral   8.320327         0.123145     2419\n",
       "..           ...               ...        ...              ...      ...\n",
       "795          796      social media   9.546326         0.167592     2813\n",
       "796          797   email marketing   5.246263         0.043822     3439\n",
       "797          798      social media   9.546326         0.167592     2101\n",
       "798          799  paid advertising  30.450327         0.016341      813\n",
       "799          800   email marketing   5.246263         0.043822     4820\n",
       "\n",
       "[800 rows x 5 columns]"
      ]
     },
     "execution_count": 63,
     "metadata": {},
     "output_type": "execute_result"
    }
   ],
   "source": [
    "data\n"
   ]
  },
  {
   "cell_type": "markdown",
   "id": "680d98bc",
   "metadata": {},
   "source": [
    "### Return on Investment (ROI)\n",
    "Return on Investment (ROI) is a financial metric used to evaluate the profitability and efficiency of an investment. It measures the return or gain generated from an investment relative to its cost.\n"
   ]
  },
  {
   "cell_type": "code",
   "execution_count": 64,
   "id": "dca29a9e",
   "metadata": {},
   "outputs": [
    {
     "data": {
      "text/html": [
       "<div>\n",
       "<style scoped>\n",
       "    .dataframe tbody tr th:only-of-type {\n",
       "        vertical-align: middle;\n",
       "    }\n",
       "\n",
       "    .dataframe tbody tr th {\n",
       "        vertical-align: top;\n",
       "    }\n",
       "\n",
       "    .dataframe thead th {\n",
       "        text-align: right;\n",
       "    }\n",
       "</style>\n",
       "<table border=\"1\" class=\"dataframe\">\n",
       "  <thead>\n",
       "    <tr style=\"text-align: right;\">\n",
       "      <th></th>\n",
       "      <th>customer_id</th>\n",
       "      <th>channel</th>\n",
       "      <th>cost</th>\n",
       "      <th>conversion_rate</th>\n",
       "      <th>revenue</th>\n",
       "      <th>roi</th>\n",
       "    </tr>\n",
       "  </thead>\n",
       "  <tbody>\n",
       "    <tr>\n",
       "      <th>0</th>\n",
       "      <td>1</td>\n",
       "      <td>referral</td>\n",
       "      <td>8.320327</td>\n",
       "      <td>0.123145</td>\n",
       "      <td>4199</td>\n",
       "      <td>503.667681</td>\n",
       "    </tr>\n",
       "    <tr>\n",
       "      <th>1</th>\n",
       "      <td>2</td>\n",
       "      <td>paid advertising</td>\n",
       "      <td>30.450327</td>\n",
       "      <td>0.016341</td>\n",
       "      <td>3410</td>\n",
       "      <td>110.985660</td>\n",
       "    </tr>\n",
       "    <tr>\n",
       "      <th>2</th>\n",
       "      <td>3</td>\n",
       "      <td>email marketing</td>\n",
       "      <td>5.246263</td>\n",
       "      <td>0.043822</td>\n",
       "      <td>3164</td>\n",
       "      <td>602.095925</td>\n",
       "    </tr>\n",
       "    <tr>\n",
       "      <th>3</th>\n",
       "      <td>4</td>\n",
       "      <td>social media</td>\n",
       "      <td>9.546326</td>\n",
       "      <td>0.167592</td>\n",
       "      <td>1520</td>\n",
       "      <td>158.223564</td>\n",
       "    </tr>\n",
       "    <tr>\n",
       "      <th>4</th>\n",
       "      <td>5</td>\n",
       "      <td>referral</td>\n",
       "      <td>8.320327</td>\n",
       "      <td>0.123145</td>\n",
       "      <td>2419</td>\n",
       "      <td>289.733775</td>\n",
       "    </tr>\n",
       "  </tbody>\n",
       "</table>\n",
       "</div>"
      ],
      "text/plain": [
       "   customer_id           channel       cost  conversion_rate  revenue  \\\n",
       "0            1          referral   8.320327         0.123145     4199   \n",
       "1            2  paid advertising  30.450327         0.016341     3410   \n",
       "2            3   email marketing   5.246263         0.043822     3164   \n",
       "3            4      social media   9.546326         0.167592     1520   \n",
       "4            5          referral   8.320327         0.123145     2419   \n",
       "\n",
       "          roi  \n",
       "0  503.667681  \n",
       "1  110.985660  \n",
       "2  602.095925  \n",
       "3  158.223564  \n",
       "4  289.733775  "
      ]
     },
     "execution_count": 64,
     "metadata": {},
     "output_type": "execute_result"
    }
   ],
   "source": [
    "data['roi'] = (data['revenue'] - data['cost'])/data['cost']\n",
    "data.head()"
   ]
  },
  {
   "cell_type": "markdown",
   "id": "e5d867ac",
   "metadata": {},
   "source": [
    "### ROI by Channel Analysis\n",
    "Now let's perform ROI by Channel Analysis which will allow us to assess the profitability of investments made through different acquisition channels."
   ]
  },
  {
   "cell_type": "code",
   "execution_count": 65,
   "id": "dce0d6b3",
   "metadata": {},
   "outputs": [
    {
     "data": {
      "text/plain": [
       "<Axes: xlabel='channel', ylabel='roi'>"
      ]
     },
     "execution_count": 65,
     "metadata": {},
     "output_type": "execute_result"
    },
    {
     "data": {
      "image/png": "[encoded data removed]",
      "text/plain": [
       "<Figure size 640x480 with 1 Axes>"
      ]
     },
     "metadata": {},
     "output_type": "display_data"
    }
   ],
   "source": [
    "roi_by_channel = data.groupby('channel')['roi'].mean().reset_index()\n",
    "sns.barplot(roi_by_channel,x='channel', y='roi')"
   ]
  },
  {
   "cell_type": "markdown",
   "id": "ef8223fa",
   "metadata": {},
   "source": [
    "Based on the analysis, email marketing appears to be the most effective channel in terms of generating returns, followed by referral and social media. Paid advertising, on the other hand, seems to have a lower ROI compared to the other channels."
   ]
  },
  {
   "cell_type": "markdown",
   "id": "74649936",
   "metadata": {},
   "source": [
    "### ROI and Other Variables Analysis\n",
    "Performing ROI and other variables analysis can provide valuable insights into the relationship between profitability and various factors such as conversion rates, costs, and revenue"
   ]
  },
  {
   "cell_type": "code",
   "execution_count": 67,
   "id": "a2a5d9ab",
   "metadata": {},
   "outputs": [
    {
     "data": {
      "image/png": "[encoded data removed]",
      "text/plain": [
       "<Figure size 640x480 with 2 Axes>"
      ]
     },
     "metadata": {},
     "output_type": "display_data"
    }
   ],
   "source": [
    "# Computing the correlation matrix\n",
    "\n",
    "corr = data[['roi','cost','conversion_rate','revenue']].corr()\n",
    "\n",
    "sns.heatmap(corr, annot=True, cmap=sns.color_palette('Purples_d'));"
   ]
  },
  {
   "cell_type": "markdown",
   "id": "08819cf5",
   "metadata": {},
   "source": [
    "The correlation matrix suggests that cost and revenue have the strongest relationships with ROI. Higher costs are associated with lower ROI, while higher revenue is associated with higher ROI. The conversion rate alone does not show a significant correlation with ROI."
   ]
  },
  {
   "cell_type": "markdown",
   "id": "fa393df7",
   "metadata": {},
   "source": [
    "---"
   ]
  },
  {
   "cell_type": "markdown",
   "id": "67b2f302",
   "metadata": {},
   "source": [
    "### Customer Lifetime Value (CLTV)\n",
    "CLTV (Customer Lifetime Value) analysis is a method used by businesses to estimate the total value a customer will generate over the entire duration of their relationship with the company. It is a valuable metric that helps businesses understand the long-term profitability and worth of their customer base."
   ]
  },
  {
   "cell_type": "code",
   "execution_count": 68,
   "id": "80111c2a",
   "metadata": {},
   "outputs": [
    {
     "data": {
      "text/html": [
       "<div>\n",
       "<style scoped>\n",
       "    .dataframe tbody tr th:only-of-type {\n",
       "        vertical-align: middle;\n",
       "    }\n",
       "\n",
       "    .dataframe tbody tr th {\n",
       "        vertical-align: top;\n",
       "    }\n",
       "\n",
       "    .dataframe thead th {\n",
       "        text-align: right;\n",
       "    }\n",
       "</style>\n",
       "<table border=\"1\" class=\"dataframe\">\n",
       "  <thead>\n",
       "    <tr style=\"text-align: right;\">\n",
       "      <th></th>\n",
       "      <th>customer_id</th>\n",
       "      <th>channel</th>\n",
       "      <th>cost</th>\n",
       "      <th>conversion_rate</th>\n",
       "      <th>revenue</th>\n",
       "      <th>roi</th>\n",
       "      <th>cltv</th>\n",
       "    </tr>\n",
       "  </thead>\n",
       "  <tbody>\n",
       "    <tr>\n",
       "      <th>0</th>\n",
       "      <td>1</td>\n",
       "      <td>referral</td>\n",
       "      <td>8.320327</td>\n",
       "      <td>0.123145</td>\n",
       "      <td>4199</td>\n",
       "      <td>503.667681</td>\n",
       "      <td>62.024146</td>\n",
       "    </tr>\n",
       "    <tr>\n",
       "      <th>1</th>\n",
       "      <td>2</td>\n",
       "      <td>paid advertising</td>\n",
       "      <td>30.450327</td>\n",
       "      <td>0.016341</td>\n",
       "      <td>3410</td>\n",
       "      <td>110.985660</td>\n",
       "      <td>1.813671</td>\n",
       "    </tr>\n",
       "    <tr>\n",
       "      <th>2</th>\n",
       "      <td>3</td>\n",
       "      <td>email marketing</td>\n",
       "      <td>5.246263</td>\n",
       "      <td>0.043822</td>\n",
       "      <td>3164</td>\n",
       "      <td>602.095925</td>\n",
       "      <td>26.385185</td>\n",
       "    </tr>\n",
       "    <tr>\n",
       "      <th>3</th>\n",
       "      <td>4</td>\n",
       "      <td>social media</td>\n",
       "      <td>9.546326</td>\n",
       "      <td>0.167592</td>\n",
       "      <td>1520</td>\n",
       "      <td>158.223564</td>\n",
       "      <td>26.517043</td>\n",
       "    </tr>\n",
       "    <tr>\n",
       "      <th>4</th>\n",
       "      <td>5</td>\n",
       "      <td>referral</td>\n",
       "      <td>8.320327</td>\n",
       "      <td>0.123145</td>\n",
       "      <td>2419</td>\n",
       "      <td>289.733775</td>\n",
       "      <td>35.679260</td>\n",
       "    </tr>\n",
       "  </tbody>\n",
       "</table>\n",
       "</div>"
      ],
      "text/plain": [
       "   customer_id           channel       cost  conversion_rate  revenue  \\\n",
       "0            1          referral   8.320327         0.123145     4199   \n",
       "1            2  paid advertising  30.450327         0.016341     3410   \n",
       "2            3   email marketing   5.246263         0.043822     3164   \n",
       "3            4      social media   9.546326         0.167592     1520   \n",
       "4            5          referral   8.320327         0.123145     2419   \n",
       "\n",
       "          roi       cltv  \n",
       "0  503.667681  62.024146  \n",
       "1  110.985660   1.813671  \n",
       "2  602.095925  26.385185  \n",
       "3  158.223564  26.517043  \n",
       "4  289.733775  35.679260  "
      ]
     },
     "execution_count": 68,
     "metadata": {},
     "output_type": "execute_result"
    }
   ],
   "source": [
    "data['cltv'] = (data['revenue']-data['cost'])*data['conversion_rate'] / data['cost']\n",
    "data.head()"
   ]
  },
  {
   "cell_type": "code",
   "execution_count": 72,
   "id": "07a8e612",
   "metadata": {},
   "outputs": [
    {
     "data": {
      "text/plain": [
       "<Axes: xlabel='channel', ylabel='cltv'>"
      ]
     },
     "execution_count": 72,
     "metadata": {},
     "output_type": "execute_result"
    },
    {
     "data": {
      "image/png": "[encoded data removed]",
      "text/plain": [
       "<Figure size 640x480 with 1 Axes>"
      ]
     },
     "metadata": {},
     "output_type": "display_data"
    }
   ],
   "source": [
    "cltv_by_channel = data.groupby('channel')['cltv'].mean().reset_index()\n",
    "\n",
    "sns.barplot(cltv_by_channel,x='channel',y='cltv')"
   ]
  },
  {
   "cell_type": "markdown",
   "id": "e35edf6c",
   "metadata": {},
   "source": [
    "Based on the analysis, referral and social media channels stand out as the most effective in terms of generating higher customer lifetime value (CLTV). Email marketing also performs reasonably well, while paid advertising lags behind in terms of CLTV.\n",
    "\n",
    "Now let's compare the CLTV of the referral and social media channels to get additional insights."
   ]
  },
  {
   "cell_type": "code",
   "execution_count": 74,
   "id": "3df2910f",
   "metadata": {},
   "outputs": [
    {
     "data": {
      "text/plain": [
       "<seaborn.axisgrid.FacetGrid at 0x7f7ee066cee0>"
      ]
     },
     "execution_count": 74,
     "metadata": {},
     "output_type": "execute_result"
    },
    {
     "data": {
      "image/png": "[encoded data removed]",
      "text/plain": [
       "<Figure size 500x500 with 1 Axes>"
      ]
     },
     "metadata": {},
     "output_type": "display_data"
    }
   ],
   "source": [
    "# Filter the data table be only referral or social media inh channel cloumn\n",
    "select = data[data['channel'].isin(['referral', 'social media'])]\n",
    "\n",
    "sns.catplot(select, x='channel', y='cltv',kind='box')"
   ]
  },
  {
   "cell_type": "markdown",
   "id": "2569be02",
   "metadata": {},
   "source": [
    "We can see that the social media channel performs the best, but the referral channel is not much worse.\n",
    "\n",
    "\n"
   ]
  },
  {
   "cell_type": "markdown",
   "id": "559d3f8e",
   "metadata": {},
   "source": [
    "---\n"
   ]
  },
  {
   "cell_type": "markdown",
   "id": "7e6f9d1e",
   "metadata": {},
   "source": [
    "### Summary\n",
    "In this data analysis project, we explored the concept of Customer Lifetime Value (CLTV) and its relationship to various marketing channels.\n",
    "\n",
    "EDA was performed to gain insights into the distribution and characteristics of the data. Various visualizations, such as histograms, bar charts, pie and box plots, heatmap were used to analyze the distribution of variables, identify patterns, and understand relationships between variables.\n",
    "\n",
    "Aggregations, such as calculating the average cost and conversion rate, total revenue for each channel, provided an overview of how different channels contribute to overall results.\n",
    "\n",
    "The Return on Investment (ROI) analysis helped assess the profitability and effectiveness of each channel in generating revenue.\n",
    "\n",
    "We estimated the Customer Lifetime Value (CLTV) for each channel to understand the long-term value generated by customers acquired through different channels.\n",
    "\n",
    "The analysis provided valuable insights which can guide resource allocation, marketing strategies, and channel optimization efforts to maximize long-term customer value and business success"
   ]
  },
  {
   "cell_type": "code",
   "execution_count": null,
   "id": "4739bb31",
   "metadata": {},
   "outputs": [],
   "source": []
  }
 ],
 "metadata": {
  "kernelspec": {
   "display_name": "Python 3 (ipykernel)",
   "language": "python",
   "name": "python3"
  },
  "language_info": {
   "codemirror_mode": {
    "name": "ipython",
    "version": 3
   },
   "file_extension": ".py",
   "mimetype": "text/x-python",
   "name": "python",
   "nbconvert_exporter": "python",
   "pygments_lexer": "ipython3",
   "version": "3.10.9"
  }
 },
 "nbformat": 4,
 "nbformat_minor": 5
}
